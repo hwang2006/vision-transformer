{
 "cells": [
  {
   "cell_type": "markdown",
   "id": "26f77004-6ffe-4b8f-8713-0dbec260af35",
   "metadata": {},
   "source": [
    "https://github.com/lukepolson/youtube_channel/blob/main/Python%20Shorts/crossentropy.ipynb"
   ]
  },
  {
   "cell_type": "code",
   "execution_count": 1,
   "id": "09ba74aa-8b68-4855-9a7e-6f6fe5804540",
   "metadata": {},
   "outputs": [],
   "source": [
    "#!pip install SciencePlots"
   ]
  },
  {
   "cell_type": "code",
   "execution_count": 2,
   "id": "a3f448e2-661c-4c35-8992-4720f440b805",
   "metadata": {},
   "outputs": [],
   "source": [
    "import numpy as np\n",
    "import matplotlib.pyplot as plt\n",
    "import torch\n",
    "import scienceplots\n",
    "plt.style.use(['science', 'notebook'])"
   ]
  },
  {
   "cell_type": "code",
   "execution_count": 3,
   "id": "e99efee8-64e2-4169-974c-2d6ddb3831c9",
   "metadata": {},
   "outputs": [],
   "source": [
    "p = np.array([5,1,4,6,2,4])\n",
    "q1 = p\n",
    "q2 = np.array([3,7,1,4,1,6])\n",
    "q3 = np.array([2,5,7,2,1,5])"
   ]
  },
  {
   "cell_type": "code",
   "execution_count": 6,
   "id": "7b3b3ecb-9ad4-4e3d-871b-3da7558abec7",
   "metadata": {},
   "outputs": [
    {
     "data": {
      "text/plain": [
       "23.455449144551153"
      ]
     },
     "execution_count": 6,
     "metadata": {},
     "output_type": "execute_result"
    }
   ],
   "source": [
    "sum(p*np.log(q3))"
   ]
  },
  {
   "cell_type": "code",
   "execution_count": 7,
   "id": "5494e1ca-6858-44c2-8399-e8dfd106c074",
   "metadata": {},
   "outputs": [
    {
     "data": {
      "text/plain": [
       "31.27439562761785"
      ]
     },
     "execution_count": 7,
     "metadata": {},
     "output_type": "execute_result"
    }
   ],
   "source": [
    "sum(p*np.log(q1))"
   ]
  },
  {
   "cell_type": "code",
   "execution_count": 8,
   "id": "3c750ebd-a0fa-4d28-bb92-89ee6b913763",
   "metadata": {},
   "outputs": [
    {
     "data": {
      "text/plain": [
       "array([0.79363671, 0.0615846 , 0.33323301, 0.83601635, 0.46684133,\n",
       "       0.81160609, 0.68385696, 0.22993348, 0.0201259 , 0.76703715])"
      ]
     },
     "execution_count": 8,
     "metadata": {},
     "output_type": "execute_result"
    }
   ],
   "source": [
    "p = np.zeros(10, dtype=int); p[4]=1\n",
    "q = np.random.rand(10)\n",
    "q\n",
    "#q = q/sum(q)"
   ]
  },
  {
   "cell_type": "code",
   "execution_count": 9,
   "id": "a4be78d7-e28a-4214-a012-fd4d0d1be13f",
   "metadata": {},
   "outputs": [
    {
     "data": {
      "text/plain": [
       "array([0.15860453, 0.01230739, 0.06659504, 0.1670739 , 0.09329602,\n",
       "       0.16219563, 0.13666557, 0.04595112, 0.00402207, 0.15328874])"
      ]
     },
     "execution_count": 9,
     "metadata": {},
     "output_type": "execute_result"
    }
   ],
   "source": [
    "q = q/sum(q)\n",
    "q"
   ]
  },
  {
   "cell_type": "code",
   "execution_count": 10,
   "id": "a7f8be26-eaf9-4fe1-bb92-65ff73198551",
   "metadata": {},
   "outputs": [
    {
     "data": {
      "text/plain": [
       "array([0, 0, 0, 0, 1, 0, 0, 0, 0, 0])"
      ]
     },
     "execution_count": 10,
     "metadata": {},
     "output_type": "execute_result"
    }
   ],
   "source": [
    "p"
   ]
  },
  {
   "cell_type": "code",
   "execution_count": 11,
   "id": "8a5230cc-af0f-480d-8b4c-a227012786e0",
   "metadata": {},
   "outputs": [
    {
     "data": {
      "text/plain": [
       "array([False, False, False, False,  True, False, False, False, False,\n",
       "       False])"
      ]
     },
     "execution_count": 11,
     "metadata": {},
     "output_type": "execute_result"
    }
   ],
   "source": [
    "p>0"
   ]
  },
  {
   "cell_type": "code",
   "execution_count": 12,
   "id": "478289a1-d24c-4e9e-b655-0c720f6d4641",
   "metadata": {},
   "outputs": [
    {
     "data": {
      "text/plain": [
       "array([0.09329602])"
      ]
     },
     "execution_count": 12,
     "metadata": {},
     "output_type": "execute_result"
    }
   ],
   "source": [
    "q[p>0]"
   ]
  },
  {
   "cell_type": "code",
   "execution_count": 13,
   "id": "3e84ce6c-ace0-4f4a-957d-451eb40dbdac",
   "metadata": {},
   "outputs": [
    {
     "data": {
      "text/plain": [
       "array([2.37197778])"
      ]
     },
     "execution_count": 13,
     "metadata": {},
     "output_type": "execute_result"
    }
   ],
   "source": [
    "H = -np.log(q[p>0])\n",
    "H"
   ]
  },
  {
   "cell_type": "code",
   "execution_count": 14,
   "id": "37a6f32e-2c3a-46ea-8eda-73b03fcecedc",
   "metadata": {},
   "outputs": [
    {
     "data": {
      "text/plain": [
       "array([0.15860453, 0.01230739, 0.06659504, 0.1670739 , 0.09329602,\n",
       "       0.16219563, 0.13666557, 0.04595112, 0.00402207, 0.15328874])"
      ]
     },
     "execution_count": 14,
     "metadata": {},
     "output_type": "execute_result"
    }
   ],
   "source": [
    "q"
   ]
  },
  {
   "cell_type": "code",
   "execution_count": 15,
   "id": "d14f771b-8ab0-48ec-91b1-a85c2a8987c6",
   "metadata": {},
   "outputs": [
    {
     "data": {
      "text/plain": [
       "array([0.0443376])"
      ]
     },
     "execution_count": 15,
     "metadata": {},
     "output_type": "execute_result"
    }
   ],
   "source": [
    "q[4] = 20\n",
    "q = q/sum(q) #renormalize\n",
    "H = -np.log(q[p>0])\n",
    "H"
   ]
  },
  {
   "cell_type": "code",
   "execution_count": 16,
   "id": "65c8e32e-d121-4d2a-96cc-14724b62af47",
   "metadata": {},
   "outputs": [
    {
     "data": {
      "text/plain": [
       "array([7.58630014e-03, 5.88681538e-04, 3.18534362e-03, 7.99140323e-03,\n",
       "       9.56630946e-01, 7.75806784e-03, 6.53692569e-03, 2.19791298e-03,\n",
       "       1.92381642e-04, 7.33203739e-03])"
      ]
     },
     "execution_count": 16,
     "metadata": {},
     "output_type": "execute_result"
    }
   ],
   "source": [
    "q"
   ]
  },
  {
   "cell_type": "code",
   "execution_count": 17,
   "id": "e8c3ab2d-2bd9-40b9-b70f-b385ee025936",
   "metadata": {},
   "outputs": [
    {
     "data": {
      "text/plain": [
       "array([[0, 0, 0, 0, 1, 0, 0, 0, 0, 0],\n",
       "       [0, 0, 1, 0, 0, 0, 0, 0, 0, 0],\n",
       "       [0, 0, 0, 0, 0, 0, 0, 0, 1, 0],\n",
       "       [0, 0, 0, 0, 0, 0, 1, 0, 0, 0]])"
      ]
     },
     "execution_count": 17,
     "metadata": {},
     "output_type": "execute_result"
    }
   ],
   "source": [
    "p = np.zeros((4,10), dtype=int)\n",
    "p[0][4] = 1\n",
    "p[1][2] = 1\n",
    "p[2][8] = 1\n",
    "p[3][6] = 1\n",
    "p"
   ]
  },
  {
   "cell_type": "code",
   "execution_count": 19,
   "id": "25ca02bc-cf1f-4ef3-89ee-9446e964825a",
   "metadata": {},
   "outputs": [
    {
     "data": {
      "text/plain": [
       "array([[0.61701684, 0.31675801, 0.04297102, 0.3649951 , 0.88675904,\n",
       "        0.84032885, 0.63389639, 0.44866355, 0.43659422, 0.43113401],\n",
       "       [0.25458846, 0.18344899, 0.30879295, 0.50344117, 0.96419848,\n",
       "        0.31635218, 0.95330438, 0.27325657, 0.01460288, 0.47334123],\n",
       "       [0.69122725, 0.28059149, 0.29764786, 0.18153875, 0.54589487,\n",
       "        0.41079178, 0.14934742, 0.78419291, 0.84562839, 0.83871474],\n",
       "       [0.13604577, 0.96797741, 0.38330872, 0.28525239, 0.36473167,\n",
       "        0.50156775, 0.95932476, 0.7773654 , 0.78202157, 0.81337339]])"
      ]
     },
     "execution_count": 19,
     "metadata": {},
     "output_type": "execute_result"
    }
   ],
   "source": [
    "q = np.random.rand(40).reshape(4,10)\n",
    "q"
   ]
  },
  {
   "cell_type": "code",
   "execution_count": 20,
   "id": "fbce801e-4bc9-43ac-bf4a-0020b663fce1",
   "metadata": {},
   "outputs": [
    {
     "data": {
      "text/plain": [
       "array([5.01911702, 4.2453273 , 5.02557547, 5.97096882])"
      ]
     },
     "execution_count": 20,
     "metadata": {},
     "output_type": "execute_result"
    }
   ],
   "source": [
    "np.sum(q, axis=1)"
   ]
  },
  {
   "cell_type": "code",
   "execution_count": 33,
   "id": "11e2169e-867d-42b2-9e72-f8c335adce16",
   "metadata": {},
   "outputs": [
    {
     "data": {
      "text/plain": [
       "array([[5.01911702, 4.2453273 , 5.02557547, 5.97096882]])"
      ]
     },
     "execution_count": 33,
     "metadata": {},
     "output_type": "execute_result"
    }
   ],
   "source": [
    "np.expand_dims(np.sum(q, axis=1), axis=0)"
   ]
  },
  {
   "cell_type": "code",
   "execution_count": 35,
   "id": "a5c7637d-9a78-4a8e-94c2-6c63456d4e0a",
   "metadata": {},
   "outputs": [
    {
     "data": {
      "text/plain": [
       "array([[0.12293334, 0.06311031, 0.00856147, 0.07272098, 0.1766763 ,\n",
       "        0.16742563, 0.1262964 , 0.08939093, 0.08698626, 0.08589838],\n",
       "       [0.0599691 , 0.04321198, 0.07273714, 0.11858713, 0.22711994,\n",
       "        0.07451774, 0.2245538 , 0.06436643, 0.00343975, 0.11149699],\n",
       "       [0.13754191, 0.05583271, 0.05922662, 0.03612298, 0.10862336,\n",
       "        0.08174025, 0.02971748, 0.15604042, 0.16826499, 0.16688929],\n",
       "       [0.02278454, 0.16211396, 0.0641954 , 0.04777322, 0.06108417,\n",
       "        0.08400107, 0.16066484, 0.13019083, 0.13097063, 0.13622134]])"
      ]
     },
     "execution_count": 35,
     "metadata": {},
     "output_type": "execute_result"
    }
   ],
   "source": [
    "q = q/np.expand_dims(np.sum(q, axis=1), axis=1)\n",
    "q"
   ]
  },
  {
   "cell_type": "code",
   "execution_count": 36,
   "id": "86f4ada5-c219-4f5d-a2e1-9796a542c4ca",
   "metadata": {},
   "outputs": [
    {
     "data": {
      "text/plain": [
       "array([0.1766763 , 0.07273714, 0.16826499, 0.16066484])"
      ]
     },
     "execution_count": 36,
     "metadata": {},
     "output_type": "execute_result"
    }
   ],
   "source": [
    "q[p>0]"
   ]
  },
  {
   "cell_type": "code",
   "execution_count": 37,
   "id": "2858e2fb-79d9-48b9-bf3f-7ddc3850f18f",
   "metadata": {},
   "outputs": [],
   "source": [
    "Hs = -np.log(q[p>0])\n",
    "L = sum(Hs)"
   ]
  },
  {
   "cell_type": "code",
   "execution_count": 38,
   "id": "7bd56c52-6d8f-4b7a-b873-4f88082e2702",
   "metadata": {},
   "outputs": [
    {
     "data": {
      "text/plain": [
       "array([1.73343602, 2.6209032 , 1.78221524, 1.82843481])"
      ]
     },
     "execution_count": 38,
     "metadata": {},
     "output_type": "execute_result"
    }
   ],
   "source": [
    "Hs"
   ]
  },
  {
   "cell_type": "code",
   "execution_count": 39,
   "id": "a7957adf-97df-496d-b216-28131135bf92",
   "metadata": {},
   "outputs": [
    {
     "data": {
      "text/plain": [
       "7.964989268180718"
      ]
     },
     "execution_count": 39,
     "metadata": {},
     "output_type": "execute_result"
    }
   ],
   "source": [
    "L"
   ]
  },
  {
   "cell_type": "code",
   "execution_count": 40,
   "id": "0c6d13cf-db47-40d0-9afb-c601bf1bf283",
   "metadata": {},
   "outputs": [
    {
     "data": {
      "text/plain": [
       "array([[ 2.97091375,  0.71792111,  7.51211154,  6.58995319, 15.54903601,\n",
       "         0.20659475, 15.72631102,  1.79937965, 16.86077809, 15.85241835],\n",
       "       [ 0.60426605,  0.25660883,  7.27724823, 11.88491176,  1.22356107,\n",
       "         0.10351819,  0.22925205,  1.22719313,  0.06492981,  2.63893546],\n",
       "       [ 5.12958647, 19.1618351 ,  9.51968613,  4.49404684,  1.20085563,\n",
       "         1.00883949,  0.66499721,  6.29082037,  0.352793  ,  0.53973531],\n",
       "       [ 5.48871119,  3.57721624,  3.97170619, 18.78995734, 12.80340737,\n",
       "         5.35222146,  0.04131773, 17.57840515, 12.79097073,  0.25358367]])"
      ]
     },
     "execution_count": 40,
     "metadata": {},
     "output_type": "execute_result"
    }
   ],
   "source": [
    "yhat = 20*np.random.rand(40).reshape(4,10) **2\n",
    "yhat"
   ]
  },
  {
   "cell_type": "code",
   "execution_count": 41,
   "id": "f216feed-c978-410e-82d6-7897a23913d6",
   "metadata": {},
   "outputs": [
    {
     "data": {
      "text/plain": [
       "(4, 10)"
      ]
     },
     "execution_count": 41,
     "metadata": {},
     "output_type": "execute_result"
    }
   ],
   "source": [
    "yhat.shape"
   ]
  },
  {
   "cell_type": "code",
   "execution_count": 43,
   "id": "8202d6df-a50a-4e60-a38a-d6db9d79fe4a",
   "metadata": {},
   "outputs": [
    {
     "data": {
      "text/plain": [
       "array([[1.95097384e+01, 2.05016670e+00, 1.83007374e+03, 7.27746806e+02,\n",
       "        5.66057483e+06, 1.22948422e+00, 6.75849656e+06, 6.04589575e+00,\n",
       "        2.10156528e+07, 7.66686494e+06],\n",
       "       [1.82990866e+00, 1.29253942e+00, 1.44700073e+03, 1.45061310e+05,\n",
       "        3.39927124e+00, 1.10906597e+00, 1.25765899e+00, 3.41164006e+00,\n",
       "        1.06708412e+00, 1.39982939e+01],\n",
       "       [1.68947238e+02, 2.09835637e+08, 1.36253340e+04, 8.94828369e+01,\n",
       "        3.32295893e+00, 2.74241657e+00, 1.94448510e+00, 5.39595818e+02,\n",
       "        1.42303654e+00, 1.71555271e+00],\n",
       "       [2.41945185e+02, 3.57738162e+01, 5.30750096e+01, 1.44668770e+08,\n",
       "        3.63453763e+05, 2.11076676e+02, 1.04218319e+00, 4.30729243e+07,\n",
       "        3.58961611e+05, 1.28863520e+00]])"
      ]
     },
     "execution_count": 43,
     "metadata": {},
     "output_type": "execute_result"
    }
   ],
   "source": [
    "q = np.exp(yhat)\n",
    "q"
   ]
  },
  {
   "cell_type": "code",
   "execution_count": 44,
   "id": "d18a6dd7-abc2-493d-accf-0e39066fd0c2",
   "metadata": {},
   "outputs": [
    {
     "data": {
      "text/plain": [
       "array([[4.74641276e-07, 4.98773340e-08, 4.45228180e-05, 1.77049361e-05,\n",
       "        1.37712890e-01, 2.99114189e-08, 1.64423600e-01, 1.47087142e-07,\n",
       "        5.11277806e-01, 1.86522775e-01],\n",
       "       [1.24878030e-05, 8.82064667e-06, 9.87473337e-03, 9.89938517e-01,\n",
       "        2.31975675e-05, 7.56857303e-06, 8.58261293e-06, 2.32819758e-05,\n",
       "        7.28207729e-06, 9.55282309e-05],\n",
       "       [8.05085447e-07, 9.99931215e-01, 6.49288985e-05, 4.26413184e-07,\n",
       "        1.58349193e-08, 1.30684567e-08, 9.26606834e-09, 2.57133970e-06,\n",
       "        6.78120592e-09, 8.17513523e-09],\n",
       "       [1.28376956e-06, 1.89817111e-07, 2.81617844e-07, 7.67617519e-01,\n",
       "        1.92849829e-03, 1.11998017e-06, 5.52986018e-09, 2.28546432e-01,\n",
       "        1.90466277e-03, 6.83754310e-09]])"
      ]
     },
     "execution_count": 44,
     "metadata": {},
     "output_type": "execute_result"
    }
   ],
   "source": [
    "q = q/np.expand_dims(np.sum(q, axis=1), axis=1)\n",
    "q"
   ]
  },
  {
   "cell_type": "code",
   "execution_count": 45,
   "id": "3d98f4c6-a858-4672-9e8c-0c43eed76fb1",
   "metadata": {},
   "outputs": [
    {
     "data": {
      "text/plain": [
       "(4, 10)"
      ]
     },
     "execution_count": 45,
     "metadata": {},
     "output_type": "execute_result"
    }
   ],
   "source": [
    "q.shape"
   ]
  },
  {
   "cell_type": "code",
   "execution_count": 46,
   "id": "4f8679df-e73f-4c6d-ae6a-674830087e10",
   "metadata": {},
   "outputs": [
    {
     "data": {
      "text/plain": [
       "array([1., 1., 1., 1.])"
      ]
     },
     "execution_count": 46,
     "metadata": {},
     "output_type": "execute_result"
    }
   ],
   "source": [
    "q.sum(axis=1)"
   ]
  },
  {
   "cell_type": "code",
   "execution_count": 47,
   "id": "0ea44af8-603b-46ec-a2c1-958925dbbaa0",
   "metadata": {},
   "outputs": [
    {
     "data": {
      "text/plain": [
       "array([[0, 0, 0, 0, 1, 0, 0, 0, 0, 0],\n",
       "       [0, 0, 1, 0, 0, 0, 0, 0, 0, 0],\n",
       "       [0, 0, 0, 0, 0, 0, 0, 0, 1, 0],\n",
       "       [0, 0, 0, 0, 0, 0, 1, 0, 0, 0]])"
      ]
     },
     "execution_count": 47,
     "metadata": {},
     "output_type": "execute_result"
    }
   ],
   "source": [
    "p"
   ]
  },
  {
   "cell_type": "code",
   "execution_count": 48,
   "id": "43f8bbab-1bfe-4b72-805e-6162721924ca",
   "metadata": {},
   "outputs": [
    {
     "data": {
      "text/plain": [
       "(array([0, 1, 2, 3]), array([4, 2, 8, 6]))"
      ]
     },
     "execution_count": 48,
     "metadata": {},
     "output_type": "execute_result"
    }
   ],
   "source": [
    "c_squig = np.where(p)\n",
    "c_squig"
   ]
  },
  {
   "cell_type": "code",
   "execution_count": 49,
   "id": "22bb5ea0-fc4e-4523-b6ca-2ac38bd72e7f",
   "metadata": {},
   "outputs": [
    {
     "data": {
      "text/plain": [
       "array([1.37712890e-01, 9.87473337e-03, 6.78120592e-09, 5.52986018e-09])"
      ]
     },
     "execution_count": 49,
     "metadata": {},
     "output_type": "execute_result"
    }
   ],
   "source": [
    "q[c_squig]"
   ]
  },
  {
   "cell_type": "code",
   "execution_count": 50,
   "id": "a8f5dde0-12ba-4b7c-b654-830f6795be19",
   "metadata": {},
   "outputs": [],
   "source": [
    "Hs = -np.log(q[c_squig])\n",
    "L = sum(Hs)"
   ]
  },
  {
   "cell_type": "code",
   "execution_count": 51,
   "id": "7d25c3ab-88ff-4739-8492-d0e2c3b18821",
   "metadata": {},
   "outputs": [
    {
     "data": {
      "text/plain": [
       "array([ 1.98258427,  4.61777597, 18.80911089, 19.01310331])"
      ]
     },
     "execution_count": 51,
     "metadata": {},
     "output_type": "execute_result"
    }
   ],
   "source": [
    "Hs"
   ]
  },
  {
   "cell_type": "code",
   "execution_count": 52,
   "id": "17125683-b247-4a54-a24d-08254f988fc9",
   "metadata": {},
   "outputs": [
    {
     "data": {
      "text/plain": [
       "44.4225744293559"
      ]
     },
     "execution_count": 52,
     "metadata": {},
     "output_type": "execute_result"
    }
   ],
   "source": [
    "L"
   ]
  },
  {
   "cell_type": "code",
   "execution_count": 53,
   "id": "9455199e-b2b1-420d-9ee4-5512fd028383",
   "metadata": {},
   "outputs": [],
   "source": [
    "L = torch.nn.CrossEntropyLoss(reduction='sum')"
   ]
  },
  {
   "cell_type": "code",
   "execution_count": 54,
   "id": "8044a912-219d-410f-a105-5f7b2e1260ff",
   "metadata": {},
   "outputs": [
    {
     "data": {
      "text/plain": [
       "array([[ 2.97091375,  0.71792111,  7.51211154,  6.58995319, 15.54903601,\n",
       "         0.20659475, 15.72631102,  1.79937965, 16.86077809, 15.85241835],\n",
       "       [ 0.60426605,  0.25660883,  7.27724823, 11.88491176,  1.22356107,\n",
       "         0.10351819,  0.22925205,  1.22719313,  0.06492981,  2.63893546],\n",
       "       [ 5.12958647, 19.1618351 ,  9.51968613,  4.49404684,  1.20085563,\n",
       "         1.00883949,  0.66499721,  6.29082037,  0.352793  ,  0.53973531],\n",
       "       [ 5.48871119,  3.57721624,  3.97170619, 18.78995734, 12.80340737,\n",
       "         5.35222146,  0.04131773, 17.57840515, 12.79097073,  0.25358367]])"
      ]
     },
     "execution_count": 54,
     "metadata": {},
     "output_type": "execute_result"
    }
   ],
   "source": [
    "yhat"
   ]
  },
  {
   "cell_type": "code",
   "execution_count": 55,
   "id": "fb5a4475-9057-4b59-bce1-35952613c567",
   "metadata": {},
   "outputs": [
    {
     "data": {
      "text/plain": [
       "array([[0, 0, 0, 0, 1, 0, 0, 0, 0, 0],\n",
       "       [0, 0, 1, 0, 0, 0, 0, 0, 0, 0],\n",
       "       [0, 0, 0, 0, 0, 0, 0, 0, 1, 0],\n",
       "       [0, 0, 0, 0, 0, 0, 1, 0, 0, 0]])"
      ]
     },
     "execution_count": 55,
     "metadata": {},
     "output_type": "execute_result"
    }
   ],
   "source": [
    "p"
   ]
  },
  {
   "cell_type": "code",
   "execution_count": 57,
   "id": "ee612634-a76b-4c32-a10e-7ece1120f2d4",
   "metadata": {},
   "outputs": [
    {
     "data": {
      "text/plain": [
       "tensor(44.4226, dtype=torch.float64)"
      ]
     },
     "execution_count": 57,
     "metadata": {},
     "output_type": "execute_result"
    }
   ],
   "source": [
    "loss = L(torch.tensor(yhat), torch.tensor(p, dtype=torch.float))\n",
    "loss"
   ]
  },
  {
   "cell_type": "code",
   "execution_count": null,
   "id": "10937f18-3bfe-4442-bf8b-f37a8b9144a3",
   "metadata": {},
   "outputs": [],
   "source": []
  }
 ],
 "metadata": {
  "kernelspec": {
   "display_name": "vision",
   "language": "python",
   "name": "vision"
  },
  "language_info": {
   "codemirror_mode": {
    "name": "ipython",
    "version": 3
   },
   "file_extension": ".py",
   "mimetype": "text/x-python",
   "name": "python",
   "nbconvert_exporter": "python",
   "pygments_lexer": "ipython3",
   "version": "3.10.14"
  }
 },
 "nbformat": 4,
 "nbformat_minor": 5
}
